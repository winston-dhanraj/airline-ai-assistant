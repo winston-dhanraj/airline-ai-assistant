{
 "cells": [
  {
   "cell_type": "markdown",
   "metadata": {},
   "source": [
    "## An AI chatbot that specializes in Flight booking\n",
    "## Demonstrates usage of Tools"
   ]
  },
  {
   "cell_type": "code",
   "execution_count": 1,
   "metadata": {},
   "outputs": [],
   "source": [
    "# imports\n",
    "\n",
    "import os\n",
    "import json\n",
    "from dotenv import load_dotenv\n",
    "from openai import OpenAI\n",
    "import gradio as gr"
   ]
  },
  {
   "cell_type": "code",
   "execution_count": 2,
   "metadata": {},
   "outputs": [
    {
     "name": "stdout",
     "output_type": "stream",
     "text": [
      "OpenAI API Key exists and begins sk-proj-\n"
     ]
    }
   ],
   "source": [
    "# Initialization\n",
    "\n",
    "load_dotenv(override=True)\n",
    "\n",
    "openai_api_key = os.getenv('OPENAI_API_KEY')\n",
    "if openai_api_key:\n",
    "    print(f\"OpenAI API Key exists and begins {openai_api_key[:8]}\")\n",
    "else:\n",
    "    print(\"OpenAI API Key not set\")\n",
    "    \n",
    "MODEL = \"gpt-4o-mini\"\n",
    "openai = OpenAI()"
   ]
  },
  {
   "cell_type": "code",
   "execution_count": 3,
   "metadata": {},
   "outputs": [],
   "source": [
    "\n",
    "system_message = \"You are a helpful assistant for an Airline called FlightAI. \"\n",
    "system_message += \"Give short, courteous answers, no more than 1 sentence. \"\n",
    "system_message += \"Always be accurate. If you don't know the answer, say so.\""
   ]
  },
  {
   "cell_type": "code",
   "execution_count": 4,
   "metadata": {},
   "outputs": [],
   "source": [
    "# Let's start by making a useful function\n",
    "\n",
    "ticket_prices = {\"london\": \"$799\", \"paris\": \"$899\", \"tokyo\": \"$1400\", \"berlin\": \"$499\"}\n",
    "\n",
    "def get_ticket_price(destination_city):\n",
    "    print(f\"Tool get_ticket_price called for {destination_city}\")\n",
    "    city = destination_city.lower()\n",
    "    return ticket_prices.get(city, \"Unknown\")\n"
   ]
  },
  {
   "cell_type": "code",
   "execution_count": 47,
   "metadata": {},
   "outputs": [],
   "source": [
    "# Lets create a function to get seat availability given a destination city and date\n",
    "\n",
    "seat_availability = {\n",
    "                        \"london\":   [\n",
    "                                        {\n",
    "                                            \"date\":\"01/01/2025\",\n",
    "                                            \"seats\" : 50\n",
    "                                        },               \n",
    "                                        {\n",
    "                                            \"date\":\"02/01/2025\",\n",
    "                                            \"seats\" : 20\n",
    "                                        }\n",
    "                                    ],\n",
    "                        \"paris\":    [\n",
    "                                        {\n",
    "                                            \"date\":\"01/01/2025\",\n",
    "                                            \"seats\" : 10\n",
    "                                        },               \n",
    "                                        {\n",
    "                                            \"date\":\"02/01/2025\",\n",
    "                                            \"seats\" : 1\n",
    "                                        }\n",
    "                                    ],\n",
    "                        \"tokyo\":    [\n",
    "                                        {\n",
    "                                            \"date\":\"01/01/2025\",\n",
    "                                            \"seats\" : 2\n",
    "                                        },               \n",
    "                                        {\n",
    "                                            \"date\":\"02/01/2025\",\n",
    "                                            \"seats\" : 10\n",
    "                                        }\n",
    "                                    ],\n",
    "\n",
    "\n",
    "\n",
    "                    }\n",
    "\n",
    "def get_seat_availability(destination_city, date):\n",
    "    print(f\"Tool get_seat_availability called for {destination_city} on {date}\")\n",
    "    city = destination_city.lower()\n",
    "    # lets convert date from - to /\n",
    "    date = date.replace(\"-\", \"/\")\n",
    "    \n",
    "    if city in seat_availability:\n",
    "        for availability in seat_availability[city]:\n",
    "            print(f\"Checking availability for {city} : {availability['date']} with {availability['seats']}\")\n",
    "            # check if the date is available\n",
    "            \n",
    "            if availability['date'] == date:\n",
    "                print(f\"Checking date for {city} : {availability['date']} with {availability['seats']}\")\n",
    "                return f\"{availability['seats']} seats available\"\n",
    "    return \"No Availability\"\n",
    "    "
   ]
  },
  {
   "cell_type": "code",
   "execution_count": 49,
   "metadata": {},
   "outputs": [
    {
     "name": "stdout",
     "output_type": "stream",
     "text": [
      "Tool get_seat_availability called for london on 01-01-2025\n",
      "Checking availability for london : 01/01/2025 with 50\n",
      "Checking date for london : 01/01/2025 with 50\n"
     ]
    },
    {
     "data": {
      "text/plain": [
       "'50 seats available'"
      ]
     },
     "execution_count": 49,
     "metadata": {},
     "output_type": "execute_result"
    }
   ],
   "source": [
    "get_seat_availability(\"london\", \"01-01-2025\")"
   ]
  },
  {
   "cell_type": "code",
   "execution_count": 7,
   "metadata": {},
   "outputs": [
    {
     "name": "stdout",
     "output_type": "stream",
     "text": [
      "Tool get_ticket_price called for Berlin\n"
     ]
    },
    {
     "data": {
      "text/plain": [
       "'$499'"
      ]
     },
     "execution_count": 7,
     "metadata": {},
     "output_type": "execute_result"
    }
   ],
   "source": [
    "get_ticket_price(\"Berlin\")"
   ]
  },
  {
   "cell_type": "code",
   "execution_count": 8,
   "metadata": {},
   "outputs": [],
   "source": [
    "# Lets create a price function that will serve as a tools function with OpenAI\n",
    "\n",
    "\n",
    "price_function = {\n",
    "    \"name\": \"get_ticket_price\",\n",
    "    \"description\": \"Get the price of a return ticket to the destination city. Call this whenever you need to know the ticket price, for example when a customer asks 'How much is a ticket to this city'\",\n",
    "    \"parameters\": {\n",
    "        \"type\": \"object\",\n",
    "        \"properties\": {\n",
    "            \"destination_city\": {\n",
    "                \"type\": \"string\",\n",
    "                \"description\": \"The city that the customer wants to travel to\",\n",
    "            },\n",
    "        },\n",
    "        \"required\": [\"destination_city\"],\n",
    "        \"additionalProperties\": False\n",
    "    }\n",
    "}"
   ]
  },
  {
   "cell_type": "code",
   "execution_count": 9,
   "metadata": {},
   "outputs": [],
   "source": [
    "# Lets add another tools function to get the flight seat availablity given a city and date\n",
    "# This function will be called when the user asks for flight availability\n",
    "availability_function = {\n",
    "    \"name\": \"get_flight_availability\",\n",
    "    \"description\": \"Get the availability of flights to the destination city on a given date. Call this whenever you need to know the flight availability, for example when a customer asks 'Are there any flights to this city on this date?'\",\n",
    "    \"parameters\": {\n",
    "        \"type\": \"object\",\n",
    "        \"properties\": {\n",
    "            \"destination_city\": {\n",
    "                \"type\": \"string\",\n",
    "                \"description\": \"The city that the customer wants to travel to\",\n",
    "            },\n",
    "            \"date\": {\n",
    "                \"type\": \"string\",\n",
    "                \"description\": \"The date of the flight in DD-MM-YYYY format\",\n",
    "            },\n",
    "        },\n",
    "        \"required\": [\"destination_city\", \"date\"],\n",
    "        \"additionalProperties\": False\n",
    "    }\n",
    "}\n"
   ]
  },
  {
   "cell_type": "code",
   "execution_count": 15,
   "metadata": {},
   "outputs": [],
   "source": [
    "tools = [\n",
    "            {\"type\": \"function\", \"function\": price_function},\n",
    "            {\"type\": \"function\", \"function\": availability_function}\n",
    "        ]"
   ]
  },
  {
   "cell_type": "code",
   "execution_count": 11,
   "metadata": {},
   "outputs": [],
   "source": [
    "# We have to write that function handle_tool_call:\n",
    "\n",
    "def handle_tool_call(message):\n",
    "    tool_call = message.tool_calls[0]\n",
    "    arguments = json.loads(tool_call.function.arguments)\n",
    "    city = arguments.get('destination_city')\n",
    "    price = get_ticket_price(city)\n",
    "    response = {\n",
    "        \"role\": \"tool\",\n",
    "        \"content\": json.dumps({\"destination_city\": city,\"price\": price}),\n",
    "        \"tool_call_id\": tool_call.id\n",
    "    }\n",
    "    return response, city"
   ]
  },
  {
   "cell_type": "code",
   "execution_count": 12,
   "metadata": {},
   "outputs": [],
   "source": [
    "# We have to write that function handle_tool_call:\n",
    "\n",
    "def handle_tool_call_1(message):\n",
    "    tool_call = message.tool_calls[0]\n",
    "    arguments = json.loads(tool_call.function.arguments)\n",
    "    city = arguments.get('destination_city')\n",
    "    date = arguments.get('date')\n",
    "    seats = get_seat_availability(city, date)\n",
    "    response = {\n",
    "        \"role\": \"tool\",\n",
    "        \"content\": json.dumps({\"destination_city\": city, \"date\": date, \"availability\": seats}),\n",
    "        \"tool_call_id\": tool_call.id\n",
    "    }\n",
    "    return response, city, date\n"
   ]
  },
  {
   "cell_type": "code",
   "execution_count": 50,
   "metadata": {},
   "outputs": [],
   "source": [
    "def chat(message, history):\n",
    "    messages = [{\"role\": \"system\", \"content\": system_message}] + history + [{\"role\": \"user\", \"content\": message}]\n",
    "    response = openai.chat.completions.create(model=MODEL, messages=messages, tools=tools)\n",
    "\n",
    "    # if response.choices[0].finish_reason==\"tool_calls\":\n",
    "    #    message = response.choices[0].message\n",
    "    #    response, city = handle_tool_call(message)\n",
    "    #    messages.append(message)\n",
    "    #    messages.append(response)\n",
    "    #    response = openai.chat.completions.create(model=MODEL, messages=messages)\n",
    "    \n",
    "    # Lets handle the tool call\n",
    "    if response.choices[0].finish_reason == \"tool_calls\":\n",
    "        message = response.choices[0].message\n",
    "        if message.tool_calls[0].function.name == \"get_ticket_price\":\n",
    "            response, city = handle_tool_call(message)\n",
    "            messages.append(message)\n",
    "            messages.append(response)\n",
    "            response = openai.chat.completions.create(model=MODEL, messages=messages)\n",
    "        elif message.tool_calls[0].function.name == \"get_flight_availability\":\n",
    "            response, city, date = handle_tool_call_1(message)\n",
    "            messages.append(message)\n",
    "            messages.append(response)\n",
    "            response = openai.chat.completions.create(model=MODEL, messages=messages)\n",
    "    \n",
    "    return response.choices[0].message.content\n",
    "    "
   ]
  },
  {
   "cell_type": "code",
   "execution_count": null,
   "metadata": {},
   "outputs": [
    {
     "name": "stdout",
     "output_type": "stream",
     "text": [
      "* Running on local URL:  http://127.0.0.1:7868\n",
      "\n",
      "To create a public link, set `share=True` in `launch()`.\n"
     ]
    },
    {
     "data": {
      "text/html": [
       "<div><iframe src=\"http://127.0.0.1:7868/\" width=\"100%\" height=\"500\" allow=\"autoplay; camera; microphone; clipboard-read; clipboard-write;\" frameborder=\"0\" allowfullscreen></iframe></div>"
      ],
      "text/plain": [
       "<IPython.core.display.HTML object>"
      ]
     },
     "metadata": {},
     "output_type": "display_data"
    },
    {
     "data": {
      "text/plain": []
     },
     "execution_count": 51,
     "metadata": {},
     "output_type": "execute_result"
    },
    {
     "name": "stdout",
     "output_type": "stream",
     "text": [
      "Tool get_seat_availability called for London on 01-01-2025\n",
      "Checking availability for london : 01/01/2025 with 50\n",
      "Checking date for london : 01/01/2025 with 50\n",
      "Tool get_seat_availability called for London on 01-01-2025\n",
      "Checking availability for london : 01/01/2025 with 50\n",
      "Checking date for london : 01/01/2025 with 50\n",
      "Tool get_seat_availability called for Tokyo on 02-01-2025\n",
      "Checking availability for tokyo : 01/01/2025 with 2\n",
      "Checking availability for tokyo : 02/01/2025 with 10\n",
      "Checking date for tokyo : 02/01/2025 with 10\n",
      "Tool get_ticket_price called for Tokyo\n"
     ]
    }
   ],
   "source": [
    "gr.ChatInterface(fn=chat, type=\"messages\").launch()"
   ]
  },
  {
   "cell_type": "code",
   "execution_count": null,
   "metadata": {},
   "outputs": [],
   "source": []
  }
 ],
 "metadata": {
  "kernelspec": {
   "display_name": "Python 3 (ipykernel)",
   "language": "python",
   "name": "python3"
  },
  "language_info": {
   "codemirror_mode": {
    "name": "ipython",
    "version": 3
   },
   "file_extension": ".py",
   "mimetype": "text/x-python",
   "name": "python",
   "nbconvert_exporter": "python",
   "pygments_lexer": "ipython3",
   "version": "3.11.11"
  }
 },
 "nbformat": 4,
 "nbformat_minor": 2
}
